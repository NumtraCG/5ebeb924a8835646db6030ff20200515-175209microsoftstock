{
 "cells": [
  {
   "cell_type": "markdown",
   "metadata": {},
   "source": [
    "***GENERATED CODE FOR microsoftstock PIPELINE***"
   ]
  },
  {
   "cell_type": "markdown",
   "metadata": {},
   "source": [
    "**CONNECTOR FUNCTIONS TO READ DATA FROM DATABRICKS FILESYSTEM**"
   ]
  },
  {
   "cell_type": "code",
   "execution_count": null,
   "metadata": {},
   "outputs": [],
   "source": [
    "import datetime\n",
    "import logging\n",
    "import warnings\n",
    "warnings.filterwarnings('ignore')\n",
    "logging.basicConfig(format='%(levelname)s:%(message)s', level=logging.INFO)\n",
    "\n",
    "\n",
    "class DBFSConnector:\n",
    "\n",
    "    def fetch(inStages, inStagesData, stageId, spark, config):\n",
    "        df = spark.read.\\\n",
    "            options(header='true' if eval(config)[\"is_header\"] == \"Use Header Line\" else 'false',\n",
    "                    inferschema='true',\n",
    "                    delimiter=eval(config)[\"delimiter\"])\\\n",
    "            .csv(eval(config)['url'])\n",
    "        display(df.limit(2).toPandas())\n",
    "        return df\n",
    "\n",
    "    def put(inStages, inStagesData, stageId, spark, config):\n",
    "        return inStagesData.write.format('csv').options(header='true' if eval(config)[\"is_header\"] == \"Use Header Line\" else 'false',\n",
    "                                                        delimiter=eval(config)[\"delimiter\"]).save((\"%s %s\") % (datetime.datetime.now().strftime(\"%Y-%m-%d %H.%M.%S\")+\"_\", eval(config)['url']))\n"
   ]
  },
  {
   "cell_type": "markdown",
   "metadata": {},
   "source": [
    "**TRANSFORMATIONS FUNCTIONS THAT WILL BE APPLIED ON DATA**"
   ]
  },
  {
   "cell_type": "code",
   "execution_count": null,
   "metadata": {},
   "outputs": [],
   "source": [
    "import json\n",
    "from pyspark.sql.types import IntegerType\n",
    "from pyspark.ml.feature import StringIndexer\n",
    "from pyspark.sql.functions import col, when\n",
    "from pyspark.sql.types import IntegerType\n",
    "from pyspark.sql.functions import mean, stddev, min, max, col\n",
    "\n",
    "\n",
    "class CleanseData:\n",
    "    # def __init__(self,df):\n",
    "    #     #print()\n",
    "\n",
    "    def replaceByMean(self, feature, df, mean_=-1):\n",
    "\n",
    "        meanValue = df.select(mean(col(feature.name)).alias(\n",
    "            'mean')).collect()[0][\"mean\"]\n",
    "        df.fillna(meanValue, subset=[feature.name])\n",
    "        df.withColumn(feature.name, when(col(feature.name) == \" \",\n",
    "                                         meanValue).otherwise(col(feature.name).cast(\"Integer\")))\n",
    "        return df\n",
    "\n",
    "    def replaceByMax(self, feature, df, max_=-1):\n",
    "        maxValue = df.select(max(col(feature.name)).alias('max')).collect()[\n",
    "            0][\"max\"]\n",
    "        df.fillna(maxValue, subset=[feature.name])\n",
    "        df = df.withColumn(feature.name,\n",
    "                           when(col(feature.name) == \" \", maxValue).otherwise(col(feature.name)))\n",
    "        return df\n",
    "\n",
    "    def replaceByMin(self, feature, df, min_=-1):\n",
    "        minValue = df.select(min(col(feature.name)).alias('min')).collect()[\n",
    "            0][\"min\"]\n",
    "        df.fillna(minValue, subset=[feature.name])\n",
    "        df = df.withColumn(feature.name,\n",
    "                           when(col(feature.name) == \" \", minValue).otherwise(col(feature.name)))\n",
    "        return df\n",
    "\n",
    "    def replaceByStandardDeviation(self, feature, df, stddev_=-1):\n",
    "        stddevValue = df.select(stddev(col(feature.name)).alias(\n",
    "            'stddev')).collect()[0][\"stddev\"]\n",
    "        df.fillna(stddevValue, subset=[feature.name])\n",
    "        df = df.withColumn(feature.name,\n",
    "                           when(col(feature.name) == \" \", stddevValue).otherwise(col(feature.name)))\n",
    "        return df\n",
    "\n",
    "    def replaceDateRandomly(self, feature, df):\n",
    "        fillValue = df.where(col(feature.name).isNotNull()\n",
    "                             ).head(1)[0][feature.name]\n",
    "        df.fillna(str(fillValue), subset=[feature.name])\n",
    "        df = df.withColumn(feature.name,\n",
    "                           when(col(feature.name) == \" \", fillValue).otherwise(col(feature.name)))\n",
    "        # print(\"CleanseData:replaceDateRandomly Schema : \", df.#printSchema())\n",
    "        return df\n",
    "\n",
    "    def replaceNullValues(self, fList, df):\n",
    "        featuresList = df.schema.fields\n",
    "        for featureObj in fList:\n",
    "            for feat in featuresList:\n",
    "                if featureObj[\"feature\"] in feat.name:\n",
    "                    featureName = feat\n",
    "                    if \"mean\" in featureObj[\"replaceby\"]:\n",
    "                        df = self.replaceByMean(featureName, df)\n",
    "                    elif \"max\" in featureObj[\"replaceby\"]:\n",
    "                        df = self.replaceByMax(featureName, df)\n",
    "                    elif \"min\" in featureObj[\"replaceby\"]:\n",
    "                        df = self.replaceByMin(featureName, df)\n",
    "                    elif \"stddev\" in featureObj[\"replaceby\"]:\n",
    "                        df = self.replaceByStandardDeviation(featureName, df)\n",
    "                    elif \"random\" in featureObj[\"replaceby\"]:\n",
    "                        df = self.replaceDateRandomly(featureName, df)\n",
    "        return df\n",
    "\n",
    "\n",
    "def StringIndexerTransform(df, params):\n",
    "    dfReturn = df\n",
    "    feature = params[\"feature\"]\n",
    "\n",
    "    dfReturn = dfReturn.fillna({feature: ''})\n",
    "    outcol = feature + \"_transform\"\n",
    "    indexer = StringIndexer(\n",
    "        inputCol=feature, outputCol=outcol, handleInvalid=\"skip\")\n",
    "    indexed = indexer.fit(dfReturn).transform(dfReturn)\n",
    "    indexed = indexed.drop(feature).withColumnRenamed(outcol, feature)\n",
    "    dfReturn = indexed\n",
    "    distinct_values_list = dfReturn.select(\n",
    "        feature).distinct().rdd.map(lambda r: r[0]).collect()\n",
    "    len_distinct_values_list = len(distinct_values_list)\n",
    "    if len_distinct_values_list <= 4:\n",
    "        changed_type_df = dfReturn.withColumn(\n",
    "            feature, dfReturn[feature].cast(IntegerType()))\n",
    "        return changed_type_df\n",
    "    # changed_type_df.show(3)\n",
    "    return dfReturn\n",
    "\n",
    "\n",
    "class TransformationMain:\n",
    "    # TODO: change df argument in run with following\n",
    "    def run(transformationDF, config):\n",
    "        configObj = json.loads(config)\n",
    "        featureData = configObj[\"FE\"]\n",
    "        transformationDF = CleanseData().replaceNullValues(featureData, transformationDF)\n",
    "        transformationDF = StringIndexerTransform(transformationDF, {'transformationsData': {'feature_label': 'stock'}, 'feature': 'stock', 'type': 'string', 'selected': 'True', 'replaceby': 'max', 'stats': {\n",
    "                                                  'count': '205', 'mean': '', 'stddev': '', 'min': 'AA', 'max': 'XOM', 'missing': '0'}, 'transformation': 'String Indexer'})\n",
    "        transformationDF = StringIndexerTransform(transformationDF, {'transformationsData': {'feature_label': 'date'}, 'feature': 'date', 'type': 'string', 'selected': 'True', 'replaceby': 'max', 'stats': {\n",
    "            'count': '205', 'mean': '', 'stddev': '', 'min': '1/14/2011', 'max': '6/3/2011', 'missing': '0'}, 'transformation': 'String Indexer'})\n",
    "        transformationDF = StringIndexerTransform(transformationDF, {'transformationsData': {'feature_label': 'high'}, 'feature': 'high', 'type': 'string', 'selected': 'True', 'replaceby': 'max', 'stats': {\n",
    "            'count': '205', 'mean': '', 'stddev': '', 'min': '$101.61 ', 'max': '$99.72 ', 'missing': '0'}, 'transformation': 'String Indexer'})\n",
    "        transformationDF = StringIndexerTransform(transformationDF, {'transformationsData': {'feature_label': 'low'}, 'feature': 'low', 'type': 'string', 'selected': 'True', 'replaceby': 'max', 'stats': {\n",
    "            'count': '205', 'mean': '', 'stddev': '', 'min': '$10.40 ', 'max': '$99.57 ', 'missing': '0'}, 'transformation': 'String Indexer'})\n",
    "        transformationDF = StringIndexerTransform(transformationDF, {'transformationsData': {'feature_label': 'close'}, 'feature': 'close', 'type': 'string', 'selected': 'True', 'replaceby': 'max', 'stats': {\n",
    "            'count': '205', 'mean': '', 'stddev': '', 'min': '$10.68 ', 'max': '$99.67 ', 'missing': '0'}, 'transformation': 'String Indexer'})\n",
    "        transformationDF = StringIndexerTransform(transformationDF, {'transformationsData': {'feature_label': 'next_weeks_open'}, 'feature': 'next_weeks_open', 'type': 'string', 'selected': 'True', 'replaceby': 'max', 'stats': {\n",
    "            'count': '205', 'mean': '', 'stddev': '', 'min': '$10.59 ', 'max': '$99.96 ', 'missing': '0'}, 'transformation': 'String Indexer'})\n",
    "        transformationDF = StringIndexerTransform(transformationDF, {'transformationsData': {'feature_label': 'next_weeks_close'}, 'feature': 'next_weeks_close', 'type': 'string', 'selected': 'True', 'replaceby': 'max', 'stats': {\n",
    "            'count': '205', 'mean': '', 'stddev': '', 'min': '$10.52 ', 'max': '$99.67 ', 'missing': '0'}, 'transformation': 'String Indexer'})\n",
    "        transformationDF = StringIndexerTransform(transformationDF, {'transformationsData': {'feature_label': 'open'}, 'feature': 'open', 'type': 'string', 'selected': 'True', 'replaceby': 'max', 'stats': {\n",
    "            'count': '205', 'mean': '', 'stddev': '', 'min': '$10.89 ', 'max': '$99.16 ', 'missing': '0'}, 'transformation': 'String Indexer'})\n",
    "        display(transformationDF.limit(2).toPandas())\n",
    "        return transformationDF\n"
   ]
  },
  {
   "cell_type": "markdown",
   "metadata": {},
   "source": [
    "**AUTOML FUNCTIONS**"
   ]
  },
  {
   "cell_type": "code",
   "execution_count": null,
   "metadata": {},
   "outputs": [],
   "source": [
    "from sklearn.model_selection import train_test_split\n",
    "from tpot import TPOTRegressor\n",
    "import pyspark\n",
    "\n",
    "\n",
    "def functionRegression(sparkDF, listOfFeatures, label):\n",
    "    sparkDF.persist(pyspark.StorageLevel.MEMORY_AND_DISK)\n",
    "    df = sparkDF.toPandas()\n",
    "    df.columns.intersection(listOfFeatures)\n",
    "    X = df.drop(label, axis=1).values\n",
    "    y = df[label].values\n",
    "    X_train, X_test, y_train, y_test = train_test_split(\n",
    "        X, y, random_state=1, test_size=0.1)\n",
    "    tpotModel = TPOTRegressor(verbosity=3, generations=10, max_time_mins=5,\n",
    "                              n_jobs=-1, random_state=25, population_size=15)\n",
    "    tpotModel.fit(X_train, y_train)\n",
    "    display(\" Error rate of Model : %s\" % tpotModel.score(X_test, y_test))\n",
    "    data = {'model': tpotModel,\n",
    "            'X_test': X_test,\n",
    "            'y_test': y_test,\n",
    "            'label': label,\n",
    "            'columnNames': sparkDF.columns}\n",
    "    return data\n"
   ]
  },
  {
   "cell_type": "markdown",
   "metadata": {},
   "source": [
    "**READING DATAFRAME**"
   ]
  },
  {
   "cell_type": "code",
   "execution_count": null,
   "metadata": {},
   "outputs": [],
   "source": [
    "from pyspark.sql import SparkSession\n",
    "spark = SparkSession.builder.getOrCreate()\n",
    "\n",
    "try: \n",
    "\tmicrosoftstockdbfs = DBFSConnector.fetch([], {}, \"5ebeb924a8835646db603100\", spark, \"{'url': '/Demo/Predict_Microsoft_Stock.csv', 'file_type': 'Delimeted', 'delimiter': ',', 'is_header': 'Use Header Line'}\")\n",
    "\n",
    "except Exception as ex: \n",
    "\tlogging.error(ex)\n"
   ]
  },
  {
   "cell_type": "markdown",
   "metadata": {},
   "source": [
    "**TRANSFORMING DATAFRAME**"
   ]
  },
  {
   "cell_type": "code",
   "execution_count": null,
   "metadata": {},
   "outputs": [],
   "source": [
    "try: \n",
    "\tmicrosoftstockautofe = TransformationMain.run(microsoftstockdbfs,json.dumps( {\"FE\": [{\"transformationsData\": {}, \"feature\": \"quarter\", \"transformation\": \"\", \"type\": \"numeric\", \"replaceby\": \"mean\", \"selected\": \"True\", \"stats\": {\"count\": \"205\", \"mean\": \"1.56\", \"stddev\": \"0.5\", \"min\": \"1\", \"max\": \"2\", \"missing\": \"0\"}}, {\"transformationsData\": {\"feature_label\": \"stock\"}, \"feature\": \"stock\", \"type\": \"string\", \"selected\": \"True\", \"replaceby\": \"max\", \"stats\": {\"count\": \"205\", \"mean\": \"\", \"stddev\": \"\", \"min\": \"AA\", \"max\": \"XOM\", \"missing\": \"0\"}, \"transformation\": \"String Indexer\"}, {\"transformationsData\": {\"feature_label\": \"date\"}, \"feature\": \"date\", \"type\": \"string\", \"selected\": \"True\", \"replaceby\": \"max\", \"stats\": {\"count\": \"205\", \"mean\": \"\", \"stddev\": \"\", \"min\": \"1/14/2011\", \"max\": \"6/3/2011\", \"missing\": \"0\"}, \"transformation\": \"String Indexer\"}, {\"transformationsData\": {\"feature_label\": \"high\"}, \"feature\": \"high\", \"type\": \"string\", \"selected\": \"True\", \"replaceby\": \"max\", \"stats\": {\"count\": \"205\", \"mean\": \"\", \"stddev\": \"\", \"min\": \"$101.61 \", \"max\": \"$99.72 \", \"missing\": \"0\"}, \"transformation\": \"String Indexer\"}, {\"transformationsData\": {\"feature_label\": \"low\"}, \"feature\": \"low\", \"type\": \"string\", \"selected\": \"True\", \"replaceby\": \"max\", \"stats\": {\"count\": \"205\", \"mean\": \"\", \"stddev\": \"\", \"min\": \"$10.40 \", \"max\": \"$99.57 \", \"missing\": \"0\"}, \"transformation\": \"String Indexer\"}, {\"transformationsData\": {\"feature_label\": \"close\"}, \"feature\": \"close\", \"type\": \"string\", \"selected\": \"True\", \"replaceby\": \"max\", \"stats\": {\"count\": \"205\", \"mean\": \"\", \"stddev\": \"\", \"min\": \"$10.68 \", \"max\": \"$99.67 \", \"missing\": \"0\"}, \"transformation\": \"String Indexer\"}, {\"transformationsData\": {}, \"feature\": \"volume\", \"transformation\": \"\", \"type\": \"numeric\", \"replaceby\": \"mean\", \"selected\": \"True\", \"stats\": {\"count\": \"205\", \"mean\": \"111000384.04\", \"stddev\": \"133255769.02\", \"min\": \"10135730\", \"max\": \"889460755\", \"missing\": \"0\"}}, {\"transformationsData\": {}, \"feature\": \"percent_change_price\", \"type\": \"real\", \"selected\": \"True\", \"replaceby\": \"mean\", \"stats\": {\"count\": \"205\", \"mean\": \"0.27\", \"stddev\": \"2.47\", \"min\": \"-8.52713\", \"max\": \"6.67656\", \"missing\": \"0\"}, \"transformation\": \"\"}, {\"transformationsData\": {}, \"feature\": \"percent_change_volume_over_last_wk\", \"type\": \"real\", \"selected\": \"True\", \"replaceby\": \"mean\", \"stats\": {\"count\": \"205\", \"mean\": \"2.86\", \"stddev\": \"31.72\", \"min\": \"-46.48313396\", \"max\": \"122.9442017\", \"missing\": \"0\"}, \"transformation\": \"\"}, {\"transformationsData\": {}, \"feature\": \"previous_weeks_volume\", \"transformation\": \"\", \"type\": \"numeric\", \"replaceby\": \"mean\", \"selected\": \"True\", \"stats\": {\"count\": \"205\", \"mean\": \"117785015.89\", \"stddev\": \"155608988.96\", \"min\": \"11795580\", \"max\": \"1054415375\", \"missing\": \"0\"}}, {\"transformationsData\": {\"feature_label\": \"next_weeks_open\"}, \"feature\": \"next_weeks_open\", \"type\": \"string\", \"selected\": \"True\", \"replaceby\": \"max\", \"stats\": {\"count\": \"205\", \"mean\": \"\", \"stddev\": \"\", \"min\": \"$10.59 \", \"max\": \"$99.96 \", \"missing\": \"0\"}, \"transformation\": \"String Indexer\"}, {\"transformationsData\": {\"feature_label\": \"next_weeks_close\"}, \"feature\": \"next_weeks_close\", \"type\": \"string\", \"selected\": \"True\", \"replaceby\": \"max\", \"stats\": {\"count\": \"205\", \"mean\": \"\", \"stddev\": \"\", \"min\": \"$10.52 \", \"max\": \"$99.67 \", \"missing\": \"0\"}, \"transformation\": \"String Indexer\"}, {\"transformationsData\": {}, \"feature\": \"percent_change_next_weeks_price\", \"type\": \"real\", \"selected\": \"True\", \"replaceby\": \"mean\", \"stats\": {\"count\": \"205\", \"mean\": \"0.17\", \"stddev\": \"2.73\", \"min\": \"-15.4229\", \"max\": \"8.66347\", \"missing\": \"0\"}, \"transformation\": \"\"}, {\"transformationsData\": {}, \"feature\": \"days_to_next_dividend\", \"transformation\": \"\", \"type\": \"numeric\", \"replaceby\": \"mean\", \"selected\": \"True\", \"stats\": {\"count\": \"205\", \"mean\": \"56.52\", \"stddev\": \"50.69\", \"min\": \"0\", \"max\": \"308\", \"missing\": \"0\"}}, {\"transformationsData\": {}, \"feature\": \"percent_return_next_dividend\", \"type\": \"real\", \"selected\": \"True\", \"replaceby\": \"mean\", \"stats\": {\"count\": \"205\", \"mean\": \"0.71\", \"stddev\": \"0.29\", \"min\": \"0.0677966\", \"max\": \"1.52862\", \"missing\": \"0\"}, \"transformation\": \"\"}, {\"transformationsData\": {\"feature_label\": \"open\"}, \"feature\": \"open\", \"type\": \"string\", \"selected\": \"True\", \"replaceby\": \"max\", \"stats\": {\"count\": \"205\", \"mean\": \"\", \"stddev\": \"\", \"min\": \"$10.89 \", \"max\": \"$99.16 \", \"missing\": \"0\"}, \"transformation\": \"String Indexer\"}, {\"feature\": \"stock_transform\", \"transformation\": \"\", \"transformationsData\": {}, \"type\": \"real\", \"selected\": \"True\", \"stats\": {\"count\": \"205\", \"mean\": \"12.08\", \"stddev\": \"8.43\", \"min\": \"0.0\", \"max\": \"29.0\", \"missing\": \"0\"}}, {\"feature\": \"date_transform\", \"transformation\": \"\", \"transformationsData\": {}, \"type\": \"real\", \"selected\": \"True\", \"stats\": {\"count\": \"205\", \"mean\": \"9.65\", \"stddev\": \"6.74\", \"min\": \"0.0\", \"max\": \"23.0\", \"missing\": \"0\"}}, {\"feature\": \"high_transform\", \"transformation\": \"\", \"transformationsData\": {}, \"type\": \"real\", \"selected\": \"True\", \"stats\": {\"count\": \"205\", \"mean\": \"98.08\", \"stddev\": \"59.19\", \"min\": \"0.0\", \"max\": \"200.0\", \"missing\": \"0\"}}, {\"feature\": \"low_transform\", \"transformation\": \"\", \"transformationsData\": {}, \"type\": \"real\", \"selected\": \"True\", \"stats\": {\"count\": \"205\", \"mean\": \"95.24\", \"stddev\": \"58.93\", \"min\": \"0.0\", \"max\": \"197.0\", \"missing\": \"0\"}}, {\"feature\": \"close_transform\", \"transformation\": \"\", \"transformationsData\": {}, \"type\": \"real\", \"selected\": \"True\", \"stats\": {\"count\": \"205\", \"mean\": \"95.19\", \"stddev\": \"59.01\", \"min\": \"0.0\", \"max\": \"197.0\", \"missing\": \"0\"}}, {\"feature\": \"next_weeks_open_transform\", \"transformation\": \"\", \"transformationsData\": {}, \"type\": \"real\", \"selected\": \"True\", \"stats\": {\"count\": \"205\", \"mean\": \"99.04\", \"stddev\": \"59.25\", \"min\": \"0.0\", \"max\": \"201.0\", \"missing\": \"0\"}}, {\"feature\": \"next_weeks_close_transform\", \"transformation\": \"\", \"transformationsData\": {}, \"type\": \"real\", \"selected\": \"True\", \"stats\": {\"count\": \"205\", \"mean\": \"98.08\", \"stddev\": \"59.19\", \"min\": \"0.0\", \"max\": \"200.0\", \"missing\": \"0\"}}, {\"feature\": \"open_transform\", \"transformation\": \"\", \"transformationsData\": {}, \"type\": \"real\", \"selected\": \"True\", \"stats\": {\"count\": \"205\", \"mean\": \"100.02\", \"stddev\": \"59.29\", \"min\": \"0.0\", \"max\": \"202.0\", \"missing\": \"0\"}}]}))\n",
    "\n",
    "except Exception as ex: \n",
    "\tlogging.error(ex)\n"
   ]
  },
  {
   "cell_type": "markdown",
   "metadata": {},
   "source": [
    "**TRAIN MODEL**"
   ]
  },
  {
   "cell_type": "code",
   "execution_count": null,
   "metadata": {},
   "outputs": [],
   "source": [
    "try: \n",
    "\tdataAutoML=functionRegression(microsoftstockautofe,\"5ebeb924a8835646db603101\", [\"quarter\", \"stock\", \"date\", \"high\", \"low\", \"close\", \"volume\", \"percent_change_price\", \"percent_change_volume_over_last_wk\", \"previous_weeks_volume\", \"next_weeks_open\", \"next_weeks_close\", \"percent_change_next_weeks_price\", \"days_to_next_dividend\", \"percent_return_next_dividend\"], \"open\")\n",
    "\n",
    "except Exception as ex: \n",
    "\tlogging.error(ex)\n"
   ]
  },
  {
   "cell_type": "markdown",
   "metadata": {},
   "source": [
    "**PREDICT ON TRAINED MODEL**"
   ]
  },
  {
   "cell_type": "code",
   "execution_count": null,
   "metadata": {},
   "outputs": [],
   "source": [
    "import pandas as pd\n",
    "import sklearn.metrics\n",
    "\n",
    "try:\n",
    "    model=dataAutoML ['model']\n",
    "    X_test=dataAutoML['X_test']\n",
    "    y_test=dataAutoML['y_test']\n",
    "    label=dataAutoML['label']\n",
    "    columnNames=dataAutoML['columnNames']\n",
    "    if label in columnNames:\n",
    "        columnNames.remove(label)\n",
    "    predicted=label+\"_predicted\"\n",
    "    y_predicted=model.predict(X_test)\n",
    "    df =pd.DataFrame(X_test , columns=columnNames)\n",
    "    df[label]=y_test\n",
    "    df[predicted]=y_predicted\n",
    "    columnNames.insert(0,predicted)\n",
    "    columnNames.insert(0,label)\n",
    "    df = df[columnNames]\n",
    "    R2 = round(sklearn.metrics.r2_score(y_test, y_predicted), 1)\n",
    "    Mean_Squared_Error = round(sklearn.metrics.mean_squared_error(y_test, y_predicted), 1)\n",
    "    Mean_Absolute_Error = round(sklearn.metrics.mean_absolute_error(y_test, y_predicted), 1)\n",
    "    display(\" R2 score of Prediction on test data    : %s\"%R2)\n",
    "    display(\" Mean Squared Error of Prediction on test data    : %s\"%Mean_Squared_Error)\n",
    "    display(\" Mean Absolute Error of Prediction on test data   : %s\"%Mean_Absolute_Error)\n",
    "    display(df.head())\n",
    "except Exception as ex:\n",
    "    logging.error(ex)\n",
    "\n"
   ]
  }
 ],
 "metadata": {},
 "nbformat": 4,
 "nbformat_minor": 2
}
